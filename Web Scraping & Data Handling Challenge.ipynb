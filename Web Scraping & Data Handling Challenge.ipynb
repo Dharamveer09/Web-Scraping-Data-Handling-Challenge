{
  "nbformat": 4,
  "nbformat_minor": 0,
  "metadata": {
    "colab": {
      "provenance": [],
      "collapsed_sections": [
        "bKFlk3slQ1ol",
        "V-qsNrtIsBEp",
        "Dam_ehZgvgmw",
        "VEg1U1uPzGoj",
        "aqzhL8STqaMX",
        "UOof6-0xFuf6",
        "8CHiu0A5RAuM",
        "edb4gsNcRJQN",
        "_RI5FD3CqFVV",
        "IrJlIsBWrO2r",
        "Mnh22VX_7f6K",
        "LYQ5acWzJRZr",
        "ev-VUSNvJ-fJ",
        "1vZLzmqcKDPX",
        "mEIt9j6RKa9B",
        "P96pGO9kRCLv",
        "hk3eSdDAXQv8",
        "XZ9nJhmiZB_W",
        "ii49LH4tdNoN",
        "mHZwwgiKdlQm",
        "uUOtDJv9gM4a",
        "nD4QVPT-nfVR",
        "CyqHHKh4IDx6",
        "0bPDbn-gPyfm",
        "N_OroblUQG4r",
        "BUPye0P0QP5I",
        "tytqsADVR2x6"
      ]
    },
    "kernelspec": {
      "name": "python3",
      "display_name": "Python 3"
    },
    "language_info": {
      "name": "python"
    }
  },
  "cells": [
    {
      "cell_type": "markdown",
      "source": [
        "# **Web Scraping & Data Handling Challenge**"
      ],
      "metadata": {
        "id": "bKFlk3slQ1ol"
      }
    },
    {
      "cell_type": "markdown",
      "source": [
        "\n",
        "\n",
        "### **Website:**\n",
        "JustWatch -  https://www.justwatch.com/in/movies?release_year_from=2000\n",
        "\n",
        "\n",
        "### **Description:**\n",
        "\n",
        "JustWatch is a popular platform that allows users to search for movies and TV shows across multiple streaming services like Netflix, Amazon Prime, Hulu, etc. For this assignment, you will be required to scrape movie and TV show data from JustWatch using Selenium, Python, and BeautifulSoup. Extract data from HTML, not by directly calling their APIs. Then, perform data filtering and analysis using Pandas, and finally, save the results to a CSV file.\n",
        "\n",
        "### **Tasks:**\n",
        "\n",
        "**1. Web Scraping:**\n",
        "\n",
        "Use BeautifulSoup to scrape the following data from JustWatch:\n",
        "\n",
        "   **a. Movie Information:**\n",
        "\n",
        "      - Movie title\n",
        "      - Release year\n",
        "      - Genre\n",
        "      - IMDb rating\n",
        "      - Streaming services available (Netflix, Amazon Prime, Hulu, etc.)\n",
        "      - URL to the movie page on JustWatch\n",
        "\n",
        "   **b. TV Show Information:**\n",
        "\n",
        "      - TV show title\n",
        "      - Release year\n",
        "      - Genre\n",
        "      - IMDb rating\n",
        "      - Streaming services available (Netflix, Amazon Prime, Hulu, etc.)\n",
        "      - URL to the TV show page on JustWatch\n",
        "\n",
        "  **c. Scope:**\n",
        "\n",
        "```\n",
        " ` - Scrape data for at least 50 movies and 50 TV shows.\n",
        "   - You can choose the entry point (e.g., starting with popular movies,\n",
        "     or a specific genre, etc.) to ensure a diverse dataset.`\n",
        "\n",
        "```\n",
        "\n",
        "\n",
        "**2. Data Filtering & Analysis:**\n",
        "\n",
        "   After scraping the data, use Pandas to perform the following tasks:\n",
        "\n",
        "   **a. Filter movies and TV shows based on specific criteria:**\n",
        "\n",
        "   ```\n",
        "      - Only include movies and TV shows released in the last 2 years (from the current date).\n",
        "      - Only include movies and TV shows with an IMDb rating of 7 or higher.\n",
        "```\n",
        "\n",
        "   **b. Data Analysis:**\n",
        "\n",
        "   ```\n",
        "      - Calculate the average IMDb rating for the scraped movies and TV shows.\n",
        "      - Identify the top 5 genres that have the highest number of available movies and TV shows.\n",
        "      - Determine the streaming service with the most significant number of offerings.\n",
        "      \n",
        "   ```   \n",
        "\n",
        "**3. Data Export:**\n",
        "\n",
        "```\n",
        "   - Dump the filtered and analysed data into a CSV file for further processing and reporting.\n",
        "\n",
        "   - Keep the CSV file in your Drive Folder and Share the Drive link on the colab while keeping view access with anyone.\n",
        "```\n",
        "\n",
        "**Submission:**\n",
        "```\n",
        "- Submit a link to your Colab made for the assignment.\n",
        "\n",
        "- The Colab should contain your Python script (.py format only) with clear\n",
        "  comments explaining the scraping, filtering, and analysis process.\n",
        "\n",
        "- Your Code shouldn't have any errors and should be executable at a one go.\n",
        "\n",
        "- Before Conclusion, Keep your Dataset Drive Link in the Notebook.\n",
        "```\n",
        "\n",
        "\n",
        "\n",
        "**Note:**\n",
        "\n",
        "1. Properly handle errors and exceptions during web scraping to ensure a robust script.\n",
        "\n",
        "2. Make sure your code is well-structured, easy to understand, and follows Python best practices.\n",
        "\n",
        "3. The assignment will be evaluated based on the correctness of the scraped data, accuracy of data filtering and analysis, and the overall quality of the Python code.\n",
        "\n",
        "\n",
        "\n",
        "\n",
        "\n",
        "\n"
      ],
      "metadata": {
        "id": "YU_opgaCYpcO"
      }
    },
    {
      "cell_type": "markdown",
      "source": [
        "# **Start The Project**"
      ],
      "metadata": {
        "id": "k8ptoMlNQ5zB"
      }
    },
    {
      "cell_type": "markdown",
      "source": [
        "## **Task 1:- Web Scrapping**"
      ],
      "metadata": {
        "id": "-xHLaFLPn4yC"
      }
    },
    {
      "cell_type": "code",
      "source": [
        "#Installing all necessary labraries\n",
        "!pip install bs4\n",
        "!pip install requests"
      ],
      "metadata": {
        "id": "axiEsy9ZL3qd",
        "colab": {
          "base_uri": "https://localhost:8080/"
        },
        "outputId": "9c8ef463-f2de-4813-9224-1781d0a261d6"
      },
      "execution_count": null,
      "outputs": [
        {
          "output_type": "stream",
          "name": "stdout",
          "text": [
            "Collecting bs4\n",
            "  Downloading bs4-0.0.2-py2.py3-none-any.whl.metadata (411 bytes)\n",
            "Requirement already satisfied: beautifulsoup4 in /usr/local/lib/python3.10/dist-packages (from bs4) (4.12.3)\n",
            "Requirement already satisfied: soupsieve>1.2 in /usr/local/lib/python3.10/dist-packages (from beautifulsoup4->bs4) (2.5)\n",
            "Downloading bs4-0.0.2-py2.py3-none-any.whl (1.2 kB)\n",
            "Installing collected packages: bs4\n",
            "Successfully installed bs4-0.0.2\n",
            "Requirement already satisfied: requests in /usr/local/lib/python3.10/dist-packages (2.32.3)\n",
            "Requirement already satisfied: charset-normalizer<4,>=2 in /usr/local/lib/python3.10/dist-packages (from requests) (3.3.2)\n",
            "Requirement already satisfied: idna<4,>=2.5 in /usr/local/lib/python3.10/dist-packages (from requests) (3.7)\n",
            "Requirement already satisfied: urllib3<3,>=1.21.1 in /usr/local/lib/python3.10/dist-packages (from requests) (2.0.7)\n",
            "Requirement already satisfied: certifi>=2017.4.17 in /usr/local/lib/python3.10/dist-packages (from requests) (2024.7.4)\n"
          ]
        }
      ]
    },
    {
      "cell_type": "code",
      "source": [
        "from bs4 import BeautifulSoup\n",
        "import requests\n",
        "import pandas as pd\n",
        "import matplotlib.pyplot as plt\n",
        "from wordcloud import WordCloud\n",
        "import numpy as np\n",
        "import re"
      ],
      "metadata": {
        "id": "omJlLZASQBmU"
      },
      "execution_count": null,
      "outputs": []
    },
    {
      "cell_type": "markdown",
      "source": [
        "## **Scrapping Movies Data**"
      ],
      "metadata": {
        "id": "NCWbwB1Og3bD"
      }
    },
    {
      "cell_type": "code",
      "source": [
        "# URL from which movies data is fetched\n",
        "url=\"https://www.justwatch.com/in/movies?release_year_from=2000\"\n",
        "\n",
        "# Sending an HTTP GET request to the URL\n",
        "response = requests.get(url)\n",
        "\n",
        "# Parsing HTML content with Beautiful Soup\n",
        "soup = BeautifulSoup(response.text,'html.parser')"
      ],
      "metadata": {
        "id": "nPDgza5mQJKr",
        "collapsed": true
      },
      "execution_count": null,
      "outputs": []
    },
    {
      "cell_type": "markdown",
      "source": [
        "## **Fetching Movie URL's**"
      ],
      "metadata": {
        "id": "V-qsNrtIsBEp"
      }
    },
    {
      "cell_type": "code",
      "source": [
        "# Movie url\n",
        "\n",
        "movie_url_list=[] # List to store all movie urls\n",
        "\n",
        "# For every movie title present in movies_title_list , Finding their url\n",
        "for movie in movie_title_list:\n",
        "\n",
        "    # Constructing the absolute URL for fetching each movie\n",
        "    absolute_url = 'https://www.justwatch.com/in/movie/' + movie\n",
        "    movie_url_list.append(absolute_url)"
      ],
      "metadata": {
        "id": "nXj9U4lshQY1"
      },
      "execution_count": null,
      "outputs": []
    },
    {
      "cell_type": "markdown",
      "source": [
        "## **Scrapping Movie Title**"
      ],
      "metadata": {
        "id": "Dam_ehZgvgmw"
      }
    },
    {
      "cell_type": "code",
      "source": [
        "# Movie title\n",
        "\n",
        "movie_title_list=[]# List to store all movie title\n",
        "\n",
        "# Extracting all movie titles from  tag and storing them in movie_titles\n",
        "movie_titles = soup.find_all('a',class_='title-list-grid__item--link',attrs={'href':True})\n",
        "\n",
        "# Extracting each movie title from movie_titles and storing in movie_title_list\n",
        "for movie_title in movie_titles:\n",
        "\n",
        "    # Extract the 'href' attribute value, which contains the movie title\n",
        "    data_id_value = movie_title['href']\n",
        "\n",
        "    # Removing the '/in/movie/' prefix to get the clean movie title\n",
        "    data_id_value = data_id_value.replace(\"/in/movie/\",\"\")\n",
        "\n",
        "    # Converting the movie title to uppercase and appending to the list\n",
        "    movie_title_list.append(data_id_value.upper())"
      ],
      "metadata": {
        "id": "1FGDXRKQxd1s"
      },
      "execution_count": null,
      "outputs": []
    },
    {
      "cell_type": "markdown",
      "source": [
        "## **Scrapping release Year**"
      ],
      "metadata": {
        "id": "VEg1U1uPzGoj"
      }
    },
    {
      "cell_type": "code",
      "source": [
        "# Movie release year\n",
        "movie_release_year_list = []# List to store all movie release year\n",
        "\n",
        "# For every movie title present in movies_title_list , Finding their release year\n",
        "for movie in movie_title_list:\n",
        "\n",
        "    # Constructing the absolute URL for fetching each movie\n",
        "    absolute_url = 'https://www.justwatch.com/in/movie/' + movie\n",
        "\n",
        "    # Sending an HTTP GET request to the\n",
        "    response_ry = requests.get(absolute_url)\n",
        "\n",
        "    # Parsing HTML content with Beautiful Soup\n",
        "    soup_ry = BeautifulSoup(response_ry.text,'html.parser')\n",
        "    movie_release_year =soup_ry.find('span',class_='text-muted').text.strip()\n",
        "    movie_release_year=movie_release_year.replace(\"(\",\"\")\n",
        "    movie_release_year=movie_release_year.replace(\")\",\"\")\n",
        "    movie_release_year_list.append(movie_release_year)"
      ],
      "metadata": {
        "id": "wLqLKOvP5Gmt"
      },
      "execution_count": null,
      "outputs": []
    },
    {
      "cell_type": "markdown",
      "source": [
        "## **Scrapping Genres**"
      ],
      "metadata": {
        "id": "aqzhL8STqaMX"
      }
    },
    {
      "cell_type": "code",
      "source": [
        "# Movie genre\n",
        "\n",
        "movie_genre_list = []# List to store all movie genre\n",
        "\n",
        "# For every movie title present in movies_title_list , Finding their genre\n",
        "for movie in movie_title_list:\n",
        "\n",
        "    # Constructing the absolute URL for fetching each movie\n",
        "    absolute_url = 'https://www.justwatch.com/in/movie/' + movie\n",
        "    response_g = requests.get(absolute_url)\n",
        "    soup = BeautifulSoup(response_g.text,'html.parser')\n",
        "\n",
        "    # Selecting only those h3 whose heading is genres\n",
        "    h3_element = soup.find('h3', class_='detail-infos__subheading', string='Genres')\n",
        "\n",
        "    if h3_element:\n",
        "        # Check if the next sibling is a div with class \"detail-infos__value\"\n",
        "        div_element = h3_element.find_next_sibling('div', class_='detail-infos__value')\n",
        "\n",
        "        if div_element:\n",
        "            movie_genre_list.append(div_element.text.strip())\n",
        "        else:\n",
        "            movie_genre_list.append(\"Genre Not Listed\")\n",
        "    else:\n",
        "         movie_genre_list.append(\"Genre Not Listed\")"
      ],
      "metadata": {
        "id": "NYGVsfKjrDWr"
      },
      "execution_count": null,
      "outputs": []
    },
    {
      "cell_type": "markdown",
      "source": [
        "## **Scrapping IMBD Rating**"
      ],
      "metadata": {
        "id": "UOof6-0xFuf6"
      }
    },
    {
      "cell_type": "code",
      "source": [
        "# Movie Imdb Rating\n",
        "\n",
        "movie_imdb_list = []# List to store all movie imdb rating\n",
        "\n",
        "# For every movie title present in movies_title_list , Finding their Imdb Rating\n",
        "for movie in movie_title_list:\n",
        "\n",
        "    # Constructing the absolute URL for fetching each movie\n",
        "    absolute_url = 'https://www.justwatch.com/in/movie/' + movie\n",
        "    response_g = requests.get(absolute_url)\n",
        "    soup = BeautifulSoup(response_g.text, 'html.parser')\n",
        "\n",
        "    # Selecting only those h3 whose heading is Rating\n",
        "    h3_element = soup.find('h3', class_='detail-infos__subheading', string='Rating')\n",
        "\n",
        "    if h3_element:\n",
        "        # Check if the next sibling is a div with class \"detail-infos__value\"\n",
        "        div_element = h3_element.find_next_sibling('div', class_='detail-infos__value')\n",
        "\n",
        "        if div_element:\n",
        "            inside_div = div_element.find_all('div', class_='jw-scoring-listing__rating')\n",
        "\n",
        "            # Check if inside_div is non-empty\n",
        "            if inside_div:\n",
        "                inside_div_last = inside_div[-1] # extracting last div of inside div as last div elemnt contains span (in which last span contains rating)\n",
        "\n",
        "                # Check if inside_div_last is non-empty\n",
        "                if inside_div_last:\n",
        "                    span_all = inside_div_last.find_all('span')\n",
        "\n",
        "                    # Check if span_all is non-empty\n",
        "                    if span_all:\n",
        "                        span_last = span_all[-1] # Here we are extracting rating from the last span(span_last) inside last div(inside_div_last) of main div_element(div_element)\n",
        "                        movie_imdb_list.append(span_last.text.strip())\n",
        "                    else:\n",
        "                        movie_imdb_list.append(\"Imdb Rating Not Listed.\")\n",
        "                else:\n",
        "                    movie_imdb_list.append(\"Imdb Rating Not Listed.\")\n",
        "            else:\n",
        "                movie_imdb_list.append(\"Imdb Rating Not Listed.\")\n",
        "        else:\n",
        "            movie_imdb_list.append(\"Imdb Rating Not Listed.\")\n",
        "    else:\n",
        "        movie_imdb_list.append(\"Imdb Rating Not Listed.\")"
      ],
      "metadata": {
        "id": "gW467MLx6aCH"
      },
      "execution_count": null,
      "outputs": []
    },
    {
      "cell_type": "markdown",
      "source": [
        "## **Scrapping Runtime/Duration**"
      ],
      "metadata": {
        "id": "8CHiu0A5RAuM"
      }
    },
    {
      "cell_type": "code",
      "source": [
        "# Write Your Code here\n",
        "# Movie Runtime/Duration\n",
        "\n",
        "movie_runtime_list=[]# List to store all movie runtime/duration\n",
        "\n",
        "# For every movie title present in movies_title_list , Finding their Runtime/Duration\n",
        "for movie in movie_title_list:\n",
        "\n",
        "    # Constructing the absolute URL for fetching each movie\n",
        "    absolute_url = 'https://www.justwatch.com/in/movie/' + movie\n",
        "    response_g = requests.get(absolute_url)\n",
        "    soup = BeautifulSoup(response_g.text,'html.parser')\n",
        "\n",
        "    # Selecting only those h3 whose heading is runtine\n",
        "    h3_element = soup.find('h3', class_='detail-infos__subheading', string='Runtime')\n",
        "\n",
        "    if h3_element:\n",
        "        # Check if the next sibling is a div with class \"detail-infos__value\"\n",
        "        div_element = h3_element.find_next_sibling('div', class_='detail-infos__value')\n",
        "\n",
        "        if div_element:\n",
        "            movie_runtime_list.append(div_element.text.strip())\n",
        "        else:\n",
        "            movie_runtime_list.append(\"No Runtime/Duration mentioned\")\n",
        "    else:\n",
        "      movie_runtime_list.append(\"No Runtime/Duration mentioned\")"
      ],
      "metadata": {
        "id": "si_yaGO8OTBo"
      },
      "execution_count": null,
      "outputs": []
    },
    {
      "cell_type": "markdown",
      "source": [
        "## **Scrapping Age Rating**"
      ],
      "metadata": {
        "id": "edb4gsNcRJQN"
      }
    },
    {
      "cell_type": "code",
      "source": [
        "# Write Your Code here\n",
        "\n",
        "from bs4 import BeautifulSoup\n",
        "import requests\n",
        "import time  # Import time module for introducing delay\n",
        "\n",
        "# Assuming movie_title_list is a list of movie titles\n",
        "movie_age_rating_list = []\n",
        "\n",
        "for movie in movie_title_list:\n",
        "    # Replace spaces with hyphens for the URL\n",
        "    movie_formatted = movie.replace(' ', '-')\n",
        "    absolute_url = 'https://www.justwatch.com/in/movie/' + movie_formatted\n",
        "\n",
        "    try:\n",
        "        # Sending an HTTP GET request\n",
        "        response = requests.get(absolute_url)\n",
        "        response.raise_for_status()  # Raises an HTTPError if the HTTP request returned an unsuccessful status code\n",
        "\n",
        "        # Parsing HTML content with Beautiful Soup\n",
        "        soup = BeautifulSoup(response.text, 'html.parser')\n",
        "\n",
        "        # Selecting only those h3 whose heading is Age rating\n",
        "        h3_element = soup.find('h3', string='Age rating')\n",
        "\n",
        "        if h3_element:\n",
        "            # Check if the next sibling is a div with class \"detail-infos__value\"\n",
        "            div_element = h3_element.find_next_sibling('div', class_='detail-infos__value')\n",
        "\n",
        "            if div_element:\n",
        "                movie_age_rating_list.append(div_element.text.strip())\n",
        "            else:\n",
        "                movie_age_rating_list.append(\"Age Rating Not Listed\")\n",
        "        else:\n",
        "            movie_age_rating_list.append(\"Age Rating Not Listed\")\n",
        "\n",
        "        # Introduce a delay to avoid overwhelming the server\n",
        "        time.sleep(2)  # Sleep for 2 seconds between requests\n",
        "    except requests.exceptions.HTTPError as e:\n",
        "        # Handle any HTTP errors that occur during the request\n",
        "        movie_age_rating_list.append(\"HTTP Error: \" + str(e))\n",
        "    except Exception as e:\n",
        "        # Handle any other exceptions that occur\n",
        "        movie_age_rating_list.append(\"Error: \" + str(e))\n",
        "\n",
        "print(movie_age_rating_list)\n"
      ],
      "metadata": {
        "id": "ZsHskhOcNAUj",
        "colab": {
          "base_uri": "https://localhost:8080/"
        },
        "outputId": "aa41a576-b108-45e6-a924-d054743663b8"
      },
      "execution_count": null,
      "outputs": [
        {
          "output_type": "stream",
          "name": "stdout",
          "text": [
            "[]\n"
          ]
        }
      ]
    },
    {
      "cell_type": "markdown",
      "source": [
        "## **Fetching Production Countries Details**"
      ],
      "metadata": {
        "id": "_RI5FD3CqFVV"
      }
    },
    {
      "cell_type": "code",
      "source": [
        "# Write Your Code here\n",
        "\n",
        "from bs4 import BeautifulSoup\n",
        "import requests\n",
        "\n",
        "# Assuming movie_title_list is a list of movie titles\n",
        "movie_production_country_list = []\n",
        "\n",
        "for movie in movie_title_list:\n",
        "    # Replace spaces with hyphens for the URL\n",
        "    movie_formatted = movie.replace(' ', '-')\n",
        "    absolute_url = 'https://www.justwatch.com/in/movie/' + movie_formatted\n",
        "\n",
        "    try:\n",
        "        # Sending an HTTP GET request with headers\n",
        "        headers = {\n",
        "            'User-Agent': 'Mozilla/5.0 (Windows NT 10.0; Win64; x64) AppleWebKit/537.36 (KHTML, like Gecko) Chrome/58.0.3029.110 Safari/537.3'}\n",
        "        response = requests.get(absolute_url, headers=headers)\n",
        "        response.raise_for_status()  # Raises an HTTPError if the HTTP request returned an unsuccessful status code\n",
        "\n",
        "        # Parsing HTML content with Beautiful Soup\n",
        "        soup = BeautifulSoup(response.text, 'html.parser')\n",
        "\n",
        "        # Selecting only those h3 whose sub-heading inside details-infos is 'Production Country'\n",
        "        h3_element = soup.find('h3', class_='detail-infos__subheading', string='Production country')\n",
        "\n",
        "        if h3_element:\n",
        "            # Check if the next sibling is a div with class \"detail-infos__value\"\n",
        "            div_element = h3_element.find_next_sibling('div', class_='detail-infos__value')\n",
        "\n",
        "            if div_element:\n",
        "                movie_production_country_list.append(div_element.text.strip())\n",
        "            else:\n",
        "                movie_production_country_list.append(\"Production Country Not Listed\")\n",
        "        else:\n",
        "            movie_production_country_list.append(\"Production Country Not Listed\")\n",
        "    except requests.exceptions.HTTPError as e:\n",
        "        # Handle any HTTP errors that occur during the request\n",
        "        movie_production_country_list.append(f\"HTTP Error: {e.response.status_code}\")\n",
        "    except Exception as e:\n",
        "        # Handle any other exceptions that occur\n",
        "        movie_production_country_list.append(f\"Error: {str(e)}\")\n",
        "\n",
        "print(movie_production_country_list)"
      ],
      "metadata": {
        "id": "ai6YOgZmYIcc",
        "colab": {
          "base_uri": "https://localhost:8080/"
        },
        "outputId": "246e7528-247b-42f2-a2de-6de278382704"
      },
      "execution_count": null,
      "outputs": [
        {
          "output_type": "stream",
          "name": "stdout",
          "text": [
            "[]\n"
          ]
        }
      ]
    },
    {
      "cell_type": "markdown",
      "source": [
        "## **Fetching Streaming Service Details**"
      ],
      "metadata": {
        "id": "IrJlIsBWrO2r"
      }
    },
    {
      "cell_type": "code",
      "source": [
        "# Write Your Code here\n",
        "movie_streaming_list=[]# List to store all movie streaming platform\n",
        "\n",
        "# For every movie title present in movies_title_list , Finding their Streaming Platform\n",
        "for movie in movie_title_list:\n",
        "\n",
        "    # Constructing the absolute URL for fetching each movie\n",
        "    absolute_url = 'https://www.justwatch.com/in/movie/' + movie\n",
        "    response = requests.get(absolute_url)\n",
        "    soup = BeautifulSoup(response.text,'html.parser')\n",
        "\n",
        "    # Finding the outer div element with the class \"buybox-row stream\"\n",
        "    outer_div = soup.find('div', class_='buybox-row stream')\n",
        "\n",
        "    if outer_div:\n",
        "        # Finding the nested div with class \"buybox-row__offers\" inside the outer div\n",
        "        inner_div = outer_div.find('div', class_='buybox-row__offers')\n",
        "\n",
        "        if inner_div:\n",
        "            # Find the picture element within the nested div\n",
        "            picture_element = inner_div.find('picture')\n",
        "\n",
        "            if picture_element:\n",
        "                # Extract the alt attribute from the img element inside the picture which contains streaming platform name\n",
        "                img_element = picture_element.find('img')\n",
        "                if img_element:\n",
        "                    alt_text = img_element['alt']\n",
        "                    movie_streaming_list.append(alt_text)\n",
        "                else:\n",
        "                    movie_streaming_list.append(\"Not Available for Streaming.\")\n",
        "            else:\n",
        "                movie_streaming_list.append(\"Not Available for Streaming.\")\n",
        "        else:\n",
        "            movie_streaming_list.append(\"Not Available for Streaming.\")\n",
        "    else:\n",
        "        movie_streaming_list.append(\"Not Available for Streaming.\")\n",
        "movie_streaming_list"
      ],
      "metadata": {
        "id": "Yk72jDLZu7EZ",
        "colab": {
          "base_uri": "https://localhost:8080/"
        },
        "outputId": "f3cb08ff-9122-45fb-c975-cfb5fd4b41f0"
      },
      "execution_count": null,
      "outputs": [
        {
          "output_type": "execute_result",
          "data": {
            "text/plain": [
              "[]"
            ]
          },
          "metadata": {},
          "execution_count": 27
        }
      ]
    },
    {
      "cell_type": "markdown",
      "source": [
        "## **Now Creating Movies DataFrame**"
      ],
      "metadata": {
        "id": "Mnh22VX_7f6K"
      }
    },
    {
      "cell_type": "code",
      "source": [
        "# Write Your Code here\n",
        "\n",
        "data_movies = {\n",
        "    'Movie Title':movie_title_list,\n",
        "    'IMDB Rating':movie_imdb_list,\n",
        "    'Release Year':movie_release_year_list,\n",
        "    'Genre':movie_genre_list,\n",
        "    'Runtime/Duration':movie_runtime_list,\n",
        "    'Age Rating':movie_age_rating_list,\n",
        "    'Production Country':movie_production_country_list,\n",
        "    'Streaming Platform':movie_streaming_list,\n",
        "    'Url':movie_url_list\n",
        "}\n",
        "\n",
        "df_movies = pd.DataFrame(data_movies)\n",
        "df_movies"
      ],
      "metadata": {
        "id": "i7XQUICP5oBI",
        "colab": {
          "base_uri": "https://localhost:8080/",
          "height": 89
        },
        "outputId": "f629da9d-0a11-4bd4-b2ab-20ec16e8828c"
      },
      "execution_count": null,
      "outputs": [
        {
          "output_type": "execute_result",
          "data": {
            "text/plain": [
              "Empty DataFrame\n",
              "Columns: [Movie Title, IMDB Rating, Release Year, Genre, Runtime/Duration, Age Rating, Production Country, Streaming Platform, Url]\n",
              "Index: []"
            ],
            "text/html": [
              "\n",
              "  <div id=\"df-809f11b8-e7fe-407e-899a-73723f24ccfc\" class=\"colab-df-container\">\n",
              "    <div>\n",
              "<style scoped>\n",
              "    .dataframe tbody tr th:only-of-type {\n",
              "        vertical-align: middle;\n",
              "    }\n",
              "\n",
              "    .dataframe tbody tr th {\n",
              "        vertical-align: top;\n",
              "    }\n",
              "\n",
              "    .dataframe thead th {\n",
              "        text-align: right;\n",
              "    }\n",
              "</style>\n",
              "<table border=\"1\" class=\"dataframe\">\n",
              "  <thead>\n",
              "    <tr style=\"text-align: right;\">\n",
              "      <th></th>\n",
              "      <th>Movie Title</th>\n",
              "      <th>IMDB Rating</th>\n",
              "      <th>Release Year</th>\n",
              "      <th>Genre</th>\n",
              "      <th>Runtime/Duration</th>\n",
              "      <th>Age Rating</th>\n",
              "      <th>Production Country</th>\n",
              "      <th>Streaming Platform</th>\n",
              "      <th>Url</th>\n",
              "    </tr>\n",
              "  </thead>\n",
              "  <tbody>\n",
              "  </tbody>\n",
              "</table>\n",
              "</div>\n",
              "    <div class=\"colab-df-buttons\">\n",
              "\n",
              "  <div class=\"colab-df-container\">\n",
              "    <button class=\"colab-df-convert\" onclick=\"convertToInteractive('df-809f11b8-e7fe-407e-899a-73723f24ccfc')\"\n",
              "            title=\"Convert this dataframe to an interactive table.\"\n",
              "            style=\"display:none;\">\n",
              "\n",
              "  <svg xmlns=\"http://www.w3.org/2000/svg\" height=\"24px\" viewBox=\"0 -960 960 960\">\n",
              "    <path d=\"M120-120v-720h720v720H120Zm60-500h600v-160H180v160Zm220 220h160v-160H400v160Zm0 220h160v-160H400v160ZM180-400h160v-160H180v160Zm440 0h160v-160H620v160ZM180-180h160v-160H180v160Zm440 0h160v-160H620v160Z\"/>\n",
              "  </svg>\n",
              "    </button>\n",
              "\n",
              "  <style>\n",
              "    .colab-df-container {\n",
              "      display:flex;\n",
              "      gap: 12px;\n",
              "    }\n",
              "\n",
              "    .colab-df-convert {\n",
              "      background-color: #E8F0FE;\n",
              "      border: none;\n",
              "      border-radius: 50%;\n",
              "      cursor: pointer;\n",
              "      display: none;\n",
              "      fill: #1967D2;\n",
              "      height: 32px;\n",
              "      padding: 0 0 0 0;\n",
              "      width: 32px;\n",
              "    }\n",
              "\n",
              "    .colab-df-convert:hover {\n",
              "      background-color: #E2EBFA;\n",
              "      box-shadow: 0px 1px 2px rgba(60, 64, 67, 0.3), 0px 1px 3px 1px rgba(60, 64, 67, 0.15);\n",
              "      fill: #174EA6;\n",
              "    }\n",
              "\n",
              "    .colab-df-buttons div {\n",
              "      margin-bottom: 4px;\n",
              "    }\n",
              "\n",
              "    [theme=dark] .colab-df-convert {\n",
              "      background-color: #3B4455;\n",
              "      fill: #D2E3FC;\n",
              "    }\n",
              "\n",
              "    [theme=dark] .colab-df-convert:hover {\n",
              "      background-color: #434B5C;\n",
              "      box-shadow: 0px 1px 3px 1px rgba(0, 0, 0, 0.15);\n",
              "      filter: drop-shadow(0px 1px 2px rgba(0, 0, 0, 0.3));\n",
              "      fill: #FFFFFF;\n",
              "    }\n",
              "  </style>\n",
              "\n",
              "    <script>\n",
              "      const buttonEl =\n",
              "        document.querySelector('#df-809f11b8-e7fe-407e-899a-73723f24ccfc button.colab-df-convert');\n",
              "      buttonEl.style.display =\n",
              "        google.colab.kernel.accessAllowed ? 'block' : 'none';\n",
              "\n",
              "      async function convertToInteractive(key) {\n",
              "        const element = document.querySelector('#df-809f11b8-e7fe-407e-899a-73723f24ccfc');\n",
              "        const dataTable =\n",
              "          await google.colab.kernel.invokeFunction('convertToInteractive',\n",
              "                                                    [key], {});\n",
              "        if (!dataTable) return;\n",
              "\n",
              "        const docLinkHtml = 'Like what you see? Visit the ' +\n",
              "          '<a target=\"_blank\" href=https://colab.research.google.com/notebooks/data_table.ipynb>data table notebook</a>'\n",
              "          + ' to learn more about interactive tables.';\n",
              "        element.innerHTML = '';\n",
              "        dataTable['output_type'] = 'display_data';\n",
              "        await google.colab.output.renderOutput(dataTable, element);\n",
              "        const docLink = document.createElement('div');\n",
              "        docLink.innerHTML = docLinkHtml;\n",
              "        element.appendChild(docLink);\n",
              "      }\n",
              "    </script>\n",
              "  </div>\n",
              "\n",
              "\n",
              "  <div id=\"id_d8025edc-3daf-4a05-b80e-516f90cde74d\">\n",
              "    <style>\n",
              "      .colab-df-generate {\n",
              "        background-color: #E8F0FE;\n",
              "        border: none;\n",
              "        border-radius: 50%;\n",
              "        cursor: pointer;\n",
              "        display: none;\n",
              "        fill: #1967D2;\n",
              "        height: 32px;\n",
              "        padding: 0 0 0 0;\n",
              "        width: 32px;\n",
              "      }\n",
              "\n",
              "      .colab-df-generate:hover {\n",
              "        background-color: #E2EBFA;\n",
              "        box-shadow: 0px 1px 2px rgba(60, 64, 67, 0.3), 0px 1px 3px 1px rgba(60, 64, 67, 0.15);\n",
              "        fill: #174EA6;\n",
              "      }\n",
              "\n",
              "      [theme=dark] .colab-df-generate {\n",
              "        background-color: #3B4455;\n",
              "        fill: #D2E3FC;\n",
              "      }\n",
              "\n",
              "      [theme=dark] .colab-df-generate:hover {\n",
              "        background-color: #434B5C;\n",
              "        box-shadow: 0px 1px 3px 1px rgba(0, 0, 0, 0.15);\n",
              "        filter: drop-shadow(0px 1px 2px rgba(0, 0, 0, 0.3));\n",
              "        fill: #FFFFFF;\n",
              "      }\n",
              "    </style>\n",
              "    <button class=\"colab-df-generate\" onclick=\"generateWithVariable('df_movies')\"\n",
              "            title=\"Generate code using this dataframe.\"\n",
              "            style=\"display:none;\">\n",
              "\n",
              "  <svg xmlns=\"http://www.w3.org/2000/svg\" height=\"24px\"viewBox=\"0 0 24 24\"\n",
              "       width=\"24px\">\n",
              "    <path d=\"M7,19H8.4L18.45,9,17,7.55,7,17.6ZM5,21V16.75L18.45,3.32a2,2,0,0,1,2.83,0l1.4,1.43a1.91,1.91,0,0,1,.58,1.4,1.91,1.91,0,0,1-.58,1.4L9.25,21ZM18.45,9,17,7.55Zm-12,3A5.31,5.31,0,0,0,4.9,8.1,5.31,5.31,0,0,0,1,6.5,5.31,5.31,0,0,0,4.9,4.9,5.31,5.31,0,0,0,6.5,1,5.31,5.31,0,0,0,8.1,4.9,5.31,5.31,0,0,0,12,6.5,5.46,5.46,0,0,0,6.5,12Z\"/>\n",
              "  </svg>\n",
              "    </button>\n",
              "    <script>\n",
              "      (() => {\n",
              "      const buttonEl =\n",
              "        document.querySelector('#id_d8025edc-3daf-4a05-b80e-516f90cde74d button.colab-df-generate');\n",
              "      buttonEl.style.display =\n",
              "        google.colab.kernel.accessAllowed ? 'block' : 'none';\n",
              "\n",
              "      buttonEl.onclick = () => {\n",
              "        google.colab.notebook.generateWithVariable('df_movies');\n",
              "      }\n",
              "      })();\n",
              "    </script>\n",
              "  </div>\n",
              "\n",
              "    </div>\n",
              "  </div>\n"
            ],
            "application/vnd.google.colaboratory.intrinsic+json": {
              "type": "dataframe",
              "variable_name": "df_movies",
              "summary": "{\n  \"name\": \"df_movies\",\n  \"rows\": 0,\n  \"fields\": [\n    {\n      \"column\": \"Movie Title\",\n      \"properties\": {\n        \"dtype\": \"number\",\n        \"std\": null,\n        \"min\": null,\n        \"max\": null,\n        \"num_unique_values\": 0,\n        \"samples\": [],\n        \"semantic_type\": \"\",\n        \"description\": \"\"\n      }\n    },\n    {\n      \"column\": \"IMDB Rating\",\n      \"properties\": {\n        \"dtype\": \"number\",\n        \"std\": null,\n        \"min\": null,\n        \"max\": null,\n        \"num_unique_values\": 0,\n        \"samples\": [],\n        \"semantic_type\": \"\",\n        \"description\": \"\"\n      }\n    },\n    {\n      \"column\": \"Release Year\",\n      \"properties\": {\n        \"dtype\": \"number\",\n        \"std\": null,\n        \"min\": null,\n        \"max\": null,\n        \"num_unique_values\": 0,\n        \"samples\": [],\n        \"semantic_type\": \"\",\n        \"description\": \"\"\n      }\n    },\n    {\n      \"column\": \"Genre\",\n      \"properties\": {\n        \"dtype\": \"number\",\n        \"std\": null,\n        \"min\": null,\n        \"max\": null,\n        \"num_unique_values\": 0,\n        \"samples\": [],\n        \"semantic_type\": \"\",\n        \"description\": \"\"\n      }\n    },\n    {\n      \"column\": \"Runtime/Duration\",\n      \"properties\": {\n        \"dtype\": \"number\",\n        \"std\": null,\n        \"min\": null,\n        \"max\": null,\n        \"num_unique_values\": 0,\n        \"samples\": [],\n        \"semantic_type\": \"\",\n        \"description\": \"\"\n      }\n    },\n    {\n      \"column\": \"Age Rating\",\n      \"properties\": {\n        \"dtype\": \"number\",\n        \"std\": null,\n        \"min\": null,\n        \"max\": null,\n        \"num_unique_values\": 0,\n        \"samples\": [],\n        \"semantic_type\": \"\",\n        \"description\": \"\"\n      }\n    },\n    {\n      \"column\": \"Production Country\",\n      \"properties\": {\n        \"dtype\": \"number\",\n        \"std\": null,\n        \"min\": null,\n        \"max\": null,\n        \"num_unique_values\": 0,\n        \"samples\": [],\n        \"semantic_type\": \"\",\n        \"description\": \"\"\n      }\n    },\n    {\n      \"column\": \"Streaming Platform\",\n      \"properties\": {\n        \"dtype\": \"number\",\n        \"std\": null,\n        \"min\": null,\n        \"max\": null,\n        \"num_unique_values\": 0,\n        \"samples\": [],\n        \"semantic_type\": \"\",\n        \"description\": \"\"\n      }\n    },\n    {\n      \"column\": \"Url\",\n      \"properties\": {\n        \"dtype\": \"number\",\n        \"std\": null,\n        \"min\": null,\n        \"max\": null,\n        \"num_unique_values\": 0,\n        \"samples\": [],\n        \"semantic_type\": \"\",\n        \"description\": \"\"\n      }\n    }\n  ]\n}"
            }
          },
          "metadata": {},
          "execution_count": 28
        }
      ]
    },
    {
      "cell_type": "markdown",
      "source": [
        "## **Scraping TV  Show Data**"
      ],
      "metadata": {
        "id": "LYQ5acWzJRZr"
      }
    },
    {
      "cell_type": "code",
      "source": [
        "# URL from which tv shows data is fetched\n",
        "tv_url='https://www.justwatch.com/in/tv-shows?release_year_from=2000'\n",
        "\n",
        "# Sending an HTTP GET request to the URL\n",
        "response = requests.get(tv_url)\n",
        "\n",
        "# Parsing HTML content with Beautiful Soup\n",
        "soup_tv = BeautifulSoup(response.text,'html.parser')"
      ],
      "metadata": {
        "id": "Xic8FWfwI6AT"
      },
      "execution_count": null,
      "outputs": []
    },
    {
      "cell_type": "markdown",
      "source": [
        "## **Fetching Tv shows Url details**"
      ],
      "metadata": {
        "id": "ev-VUSNvJ-fJ"
      }
    },
    {
      "cell_type": "code",
      "source": [
        "# Tv Shows title\n",
        "\n",
        "tv_show_title_list=[] # List to store all tv show title\n",
        "\n",
        "# Extracting all tv show titles and storing them in tv_show_titles\n",
        "tv_show_titles = soup_tv.find_all('a',class_='title-list-grid__item--link',attrs={'href':True})\n",
        "\n",
        "# Extracting each tv show title from tv_show_titles and storing in tv_show_title_list\n",
        "for tv_show_title in tv_show_titles:\n",
        "\n",
        "    # Extract the 'href' attribute value, which contains the tv_show title\n",
        "    data_id_value = tv_show_title['href']\n",
        "\n",
        "    # Removing the '/in/tv-show/' prefix to get the clean tv_show title\n",
        "    data_id_value = data_id_value.replace(\"/in/tv-show/\",\"\")\n",
        "\n",
        "    # Converting the tv_show title to uppercase and appending to the list\n",
        "    tv_show_title_list.append(data_id_value.upper())\n"
      ],
      "metadata": {
        "id": "eMlwT4I-8gGh"
      },
      "execution_count": null,
      "outputs": []
    },
    {
      "cell_type": "markdown",
      "source": [
        "## **Fetching Tv Show Title details**"
      ],
      "metadata": {
        "id": "1vZLzmqcKDPX"
      }
    },
    {
      "cell_type": "code",
      "source": [
        "# Write Your Code here\n",
        "from bs4 import BeautifulSoup\n",
        "import requests\n",
        "\n",
        "# Specifying the URL from which tv show related data will be fetched\n",
        "tv_url = 'https://www.justwatch.com/in/tv-shows?release_year_from=2000'\n",
        "\n",
        "# Sending an HTTP GET request to the URL\n",
        "response = requests.get(tv_url)\n",
        "\n",
        "# Parsing the HTML content using BeautifulSoup with the 'html.parser'\n",
        "soup_tv = BeautifulSoup(response.text, 'html.parser')\n",
        "\n",
        "tv_show_title_list = []  # List to store all TV show titles\n",
        "\n",
        "# Extracting all TV show titles and storing them in tv_show_titles\n",
        "tv_show_titles = soup_tv.find_all('a', class_='title-list-grid__item--link', attrs={'href': True})\n",
        "\n",
        "# Extracting each TV show title from tv_show_titles and storing in tv_show_title_list\n",
        "for tv_show_title in tv_show_titles:\n",
        "    # Extract the 'href' attribute value, which contains the TV show title\n",
        "    data_id_value = tv_show_title['href']\n",
        "\n",
        "    # Removing the '/in/tv-show/' prefix to get the clean TV show title\n",
        "    data_id_value = data_id_value.replace(\"/in/tv-show/\", \"\")\n",
        "\n",
        "    # Converting the TV show title to uppercase and appending to the list\n",
        "    tv_show_title_list.append(data_id_value.upper())\n",
        "\n",
        "# Print the list of TV show titles\n",
        "print(tv_show_title_list)\n"
      ],
      "metadata": {
        "id": "a8Y6UF6-JLvO",
        "colab": {
          "base_uri": "https://localhost:8080/"
        },
        "outputId": "ee51c261-cc4a-4716-ac5c-b579e32efc1e"
      },
      "execution_count": null,
      "outputs": [
        {
          "output_type": "stream",
          "name": "stdout",
          "text": [
            "[]\n"
          ]
        }
      ]
    },
    {
      "cell_type": "markdown",
      "source": [
        "## **Fetching Release Year**"
      ],
      "metadata": {
        "id": "mEIt9j6RKa9B"
      }
    },
    {
      "cell_type": "code",
      "source": [
        "# Write Your Code here\n",
        "from bs4 import BeautifulSoup\n",
        "import requests\n",
        "\n",
        "# Assuming tv_show_title_list is a list of TV show titles\n",
        "tv_show_release_year_list = []  # List to store all TV show release years\n",
        "\n",
        "for tv_show in tv_show_title_list:\n",
        "    # Constructing the absolute URL for fetching each TV show\n",
        "    absolute_url = 'https://www.justwatch.com/in/tv-show/' + tv_show\n",
        "\n",
        "    # Sending an HTTP GET request to the URL\n",
        "    response = requests.get(absolute_url)\n",
        "\n",
        "    # Parsing HTML content with Beautiful Soup\n",
        "    soup = BeautifulSoup(response.text, 'html.parser')\n",
        "    tv_show_release_year_element = soup.find('span', class_='text-muted')\n",
        "\n",
        "    # Check if the element is found\n",
        "    if tv_show_release_year_element:\n",
        "        tv_show_release_year = tv_show_release_year_element.text.strip()\n",
        "        tv_show_release_year = tv_show_release_year.replace(\"(\", \"\")\n",
        "        tv_show_release_year = tv_show_release_year.replace(\")\", \"\")\n",
        "        tv_show_release_year_list.append(tv_show_release_year)\n",
        "    else:\n",
        "        # Handle the case where the release year is not found\n",
        "        tv_show_release_year_list.append('Release year not found')\n",
        "\n",
        "# Print the list of TV show release years\n",
        "print(tv_show_release_year_list)\n"
      ],
      "metadata": {
        "id": "r72fyiF8JozW",
        "colab": {
          "base_uri": "https://localhost:8080/"
        },
        "outputId": "a3b781ca-7634-4a28-dd40-d307347fac29"
      },
      "execution_count": null,
      "outputs": [
        {
          "output_type": "stream",
          "name": "stdout",
          "text": [
            "[]\n"
          ]
        }
      ]
    },
    {
      "cell_type": "markdown",
      "source": [
        "## **Fetching TV Show Genre Details**"
      ],
      "metadata": {
        "id": "P96pGO9kRCLv"
      }
    },
    {
      "cell_type": "code",
      "source": [
        "# Write Your Code here\n",
        "from bs4 import BeautifulSoup\n",
        "import requests\n",
        "\n",
        "# Assuming tv_show_title_list is a list of TV show titles\n",
        "tv_show_genre_list = []  # List to store all TV show genres\n",
        "\n",
        "for tv_show in tv_show_title_list:\n",
        "    tv_show = str(tv_show)\n",
        "    # Constructing the absolute URL for fetching each TV show\n",
        "    absolute_url = 'https://www.justwatch.com/in/tv-show/' + tv_show\n",
        "\n",
        "    # Sending an HTTP GET request to the URL\n",
        "    response = requests.get(absolute_url)\n",
        "\n",
        "    # Parsing HTML content with Beautiful Soup\n",
        "    soup = BeautifulSoup(response.text, 'html.parser')\n",
        "    h3_element = soup.find('h3', class_='detail-infos__subheading', string='Genres')\n",
        "\n",
        "    if h3_element:\n",
        "        # Check if the next sibling is a div with class \"detail-infos__value\"\n",
        "        div_element = h3_element.find_next_sibling('div', class_='detail-infos__value')\n",
        "\n",
        "        if div_element:\n",
        "            tv_show_genre_list.append(div_element.text.strip())\n",
        "        else:\n",
        "            tv_show_genre_list.append(\"Genre Not Listed\")\n",
        "    else:\n",
        "        tv_show_genre_list.append(\"Genre Not Listed\")\n",
        "\n",
        "# Print the list of TV show genres\n",
        "print(tv_show_genre_list)"
      ],
      "metadata": {
        "id": "Jay8a9xgT43-",
        "colab": {
          "base_uri": "https://localhost:8080/"
        },
        "outputId": "965b4469-cb68-41db-a0b2-22b6d092b8c1"
      },
      "execution_count": null,
      "outputs": [
        {
          "output_type": "stream",
          "name": "stdout",
          "text": [
            "[]\n"
          ]
        }
      ]
    },
    {
      "cell_type": "markdown",
      "source": [
        "## **Fetching IMDB Rating Details**"
      ],
      "metadata": {
        "id": "hk3eSdDAXQv8"
      }
    },
    {
      "cell_type": "code",
      "source": [
        "# Write Your Code here\n",
        "# Tv Shows  Imdb Rating\n",
        "\n",
        "tv_show_imdb_list = [] # List to store all tv show Imdb Rating\n",
        "\n",
        "# For every tv show title present in tv_show_title_list , Finding their Imdb Rating\n",
        "for tv_show in tv_show_title_list:\n",
        "\n",
        "    # Constructing the absolute URL for fetching each tv show\n",
        "    absolute_url = 'https://www.justwatch.com/in/tv-show/' + tv_show\n",
        "    response = requests.get(absolute_url)\n",
        "    soup = BeautifulSoup(response.text, 'html.parser')\n",
        "\n",
        "    # Selecting only those h3 whose heading is Rating\n",
        "    h3_element = soup.find('h3', class_='detail-infos__subheading', string='Rating')\n",
        "\n",
        "    if h3_element:\n",
        "        # Check if the next sibling is a div with class \"detail-infos__value\"\n",
        "        div_element = h3_element.find_next_sibling('div', class_='detail-infos__value')\n",
        "\n",
        "        if div_element:\n",
        "            inside_div = div_element.find_all('div', class_='jw-scoring-listing__rating')\n",
        "\n",
        "            # Check if inside_div is non-empty\n",
        "            if inside_div:\n",
        "                inside_div_last = inside_div[-1] # extracting last div of inside div as last div elemnt contains span (in which last span contains rating)\n",
        "\n",
        "                # Check if inside_div_last is non-empty\n",
        "                if inside_div_last:\n",
        "                    span_all = inside_div_last.find_all('span')\n",
        "\n",
        "                    # Check if span_all is non-empty\n",
        "                    if span_all:\n",
        "                        span_last = span_all[-1] # Here we are extracting rating from the last span(span_last) inside last div(inside_div_last) of main div_element(div_element)\n",
        "                        tv_show_imdb_list.append(span_last.text.strip())\n",
        "                    else:\n",
        "                        tv_show_imdb_list.append(\"Imdb Rating Not Listed.\")\n",
        "                else:\n",
        "                    tv_show_imdb_list.append(\"Imdb Rating Not Listed.\")\n",
        "            else:\n",
        "                tv_show_imdb_list.append(\"Imdb Rating Not Listed.\")\n",
        "        else:\n",
        "            tv_show_imdb_list.append(\"Imdb Rating Not Listed.\")\n",
        "    else:\n",
        "        tv_show_imdb_list.append(\"Imdb Rating Not Listed.\")\n",
        "tv_show_imdb_list"
      ],
      "metadata": {
        "id": "EmltFOQEXM2W",
        "colab": {
          "base_uri": "https://localhost:8080/"
        },
        "outputId": "599b3570-e363-424a-e278-d9fd40aabcc2"
      },
      "execution_count": null,
      "outputs": [
        {
          "output_type": "execute_result",
          "data": {
            "text/plain": [
              "[]"
            ]
          },
          "metadata": {},
          "execution_count": 36
        }
      ]
    },
    {
      "cell_type": "markdown",
      "source": [
        "## **Fetching Age Rating Details**"
      ],
      "metadata": {
        "id": "XZ9nJhmiZB_W"
      }
    },
    {
      "cell_type": "code",
      "source": [
        "# Write Your Code here\n",
        "from bs4 import BeautifulSoup\n",
        "import requests\n",
        "\n",
        "# Assuming tv_show_title_list is a list of TV show titles\n",
        "tv_show_age_rating_list = []  # List to store all TV show age ratings\n",
        "\n",
        "for tv_show in tv_show_title_list:\n",
        "    # Constructing the absolute URL for fetching each TV show\n",
        "    absolute_url = 'https://www.justwatch.com/in/tv-show/' + tv_show\n",
        "\n",
        "    # Sending an HTTP GET request to the URL\n",
        "    response = requests.get(absolute_url)\n",
        "\n",
        "    # Parsing HTML content with Beautiful Soup\n",
        "    soup = BeautifulSoup(response.text, 'html.parser')\n",
        "    h3_element = soup.find('h3', class_='detail-infos__subheading', string='Age rating')\n",
        "\n",
        "    if h3_element:\n",
        "        # Check if the next sibling is a div with class \"detail-infos__value\"\n",
        "        div_element = h3_element.find_next_sibling('div', class_='detail-infos__value')\n",
        "\n",
        "        if div_element:\n",
        "            tv_show_age_rating_list.append(div_element.text.strip())\n",
        "        else:\n",
        "            tv_show_age_rating_list.append(\"Age Rating Not Listed\")\n",
        "    else:\n",
        "        tv_show_age_rating_list.append(\"Age Rating Not Listed\")\n",
        "\n",
        "# Print the list of TV show age ratings\n",
        "print(tv_show_age_rating_list)\n"
      ],
      "metadata": {
        "id": "wR9Xo8piZA7p",
        "colab": {
          "base_uri": "https://localhost:8080/"
        },
        "outputId": "81a29afd-9def-4560-81e7-615ea3ca5974"
      },
      "execution_count": null,
      "outputs": [
        {
          "output_type": "stream",
          "name": "stdout",
          "text": [
            "[]\n"
          ]
        }
      ]
    },
    {
      "cell_type": "markdown",
      "source": [
        "## **Fetching Production Country details**"
      ],
      "metadata": {
        "id": "ii49LH4tdNoN"
      }
    },
    {
      "cell_type": "code",
      "source": [
        "# Write Your Code here\n",
        "# Tv Shows Production Country\n",
        "\n",
        "tv_show_production_country_list=[] # List to store all tv show Production Countries\n",
        "\n",
        "# For every tv show title present in tv_show_title_list , Finding their Production country\n",
        "for tv_show in tv_show_title_list:\n",
        "\n",
        "    # Constructing the absolute URL for fetching each tv show\n",
        "    absolute_url = 'https://www.justwatch.com/in/tv-show/' + tv_show\n",
        "    response = requests.get(absolute_url)\n",
        "    soup = BeautifulSoup(response.text,'html.parser')\n",
        "\n",
        "    # Selecting only those h3 whose sub-heading inside details- infos is 'Production Country'\n",
        "    h3_element = soup.find('h3', class_='detail-infos__subheading', string=' Production country ')\n",
        "\n",
        "    if h3_element:\n",
        "        # Check if the next sibling is a div with class \"detail-infos__value\"\n",
        "        div_element = h3_element.find_next_sibling('div', class_='detail-infos__value')\n",
        "\n",
        "        if div_element:\n",
        "            tv_show_production_country_list.append(div_element.text.strip())\n",
        "        else:\n",
        "            tv_show_production_country_list.append(\"Production Country Not Listed\")\n",
        "    else:\n",
        "          tv_show_production_country_list.append(\"Production Country Not Listed\")\n",
        "print(tv_show_production_country_list)"
      ],
      "metadata": {
        "id": "xihOeyN8XXDt",
        "colab": {
          "base_uri": "https://localhost:8080/"
        },
        "outputId": "b72d23aa-07fc-48e8-b256-363dcf9a6672"
      },
      "execution_count": null,
      "outputs": [
        {
          "output_type": "stream",
          "name": "stdout",
          "text": [
            "[]\n"
          ]
        }
      ]
    },
    {
      "cell_type": "markdown",
      "source": [
        "## **Fetching Streaming Service details**"
      ],
      "metadata": {
        "id": "mHZwwgiKdlQm"
      }
    },
    {
      "cell_type": "code",
      "source": [
        "# Write Your Code here\n",
        "# Tv Shows Streaming Platform\n",
        "\n",
        "tv_show_streaming_list=[] # List to store all tv show Streaming Platorms\n",
        "\n",
        "# For every tv show title present in tv_show_title_list , Finding their Streaming Platform\n",
        "for tv_show in tv_show_title_list:\n",
        "\n",
        "    # Constructing the absolute URL for fetching each tv show\n",
        "    absolute_url = 'https://www.justwatch.com/in/tv-show/' + tv_show\n",
        "    response = requests.get(absolute_url)\n",
        "    soup = BeautifulSoup(response.text,'html.parser')\n",
        "\n",
        "    # Finding the outer div element with the class \"buybox-row stream\"\n",
        "    outer_div = soup.find('div', class_='buybox-row stream')\n",
        "\n",
        "    if outer_div:\n",
        "        # Finding the nested div with class \"buybox-row__offers\" inside the outer div\n",
        "        inner_div = outer_div.find('div', class_='buybox-row__offers')\n",
        "\n",
        "        if inner_div:\n",
        "            # Find the picture element within the nested div\n",
        "            picture_element = inner_div.find('picture')\n",
        "\n",
        "            if picture_element:\n",
        "                # Extract the alt attribute from the img element inside the picture which contains streaming platform name\n",
        "                img_element = picture_element.find('img')\n",
        "                if img_element:\n",
        "                    alt_text = img_element['alt']\n",
        "                    tv_show_streaming_list.append(alt_text)\n",
        "                else:\n",
        "                    tv_show_streaming_list.append(\"Not Available for Streaming.\")\n",
        "            else:\n",
        "                tv_show_streaming_list.append(\"Not Available for Streaming.\")\n",
        "        else:\n",
        "            tv_show_streaming_list.append(\"Not Available for Streaming.\")\n",
        "    else:\n",
        "        tv_show_streaming_list.append(\"Not Available for Streaming.\")"
      ],
      "metadata": {
        "id": "_MBl6Vqadrl9"
      },
      "execution_count": null,
      "outputs": []
    },
    {
      "cell_type": "markdown",
      "source": [
        "## **Fetching Duration Details**"
      ],
      "metadata": {
        "id": "uUOtDJv9gM4a"
      }
    },
    {
      "cell_type": "code",
      "source": [
        "# Write Your Code here\n",
        "from bs4 import BeautifulSoup\n",
        "import requests\n",
        "\n",
        "def extract_tv_show_runtime(tv_show_title_list):\n",
        "    tv_show_runtime_list = []  # List to store all TV show runtimes\n",
        "\n",
        "    for tv_show in tv_show_title_list:\n",
        "        # Constructing the absolute URL for fetching each TV show\n",
        "        absolute_url = 'https://www.justwatch.com/in/tv-show/' + tv_show\n",
        "        response = requests.get(absolute_url)\n",
        "        soup = BeautifulSoup(response.text, 'html.parser')\n",
        "\n",
        "        # Selecting only those h3 whose heading is runtime\n",
        "        h3_element = soup.find('h3', class_='detail-infos__subheading', string='Runtime')\n",
        "\n",
        "        if h3_element:\n",
        "            # Check if the next sibling is a div with class \"detail-infos__value\"\n",
        "            div_element = h3_element.find_next_sibling('div', class_='detail-infos__value')\n",
        "\n",
        "            if div_element:\n",
        "                tv_show_runtime_list.append(div_element.text.strip())\n",
        "            else:\n",
        "                tv_show_runtime_list.append(\"No Runtime/Duration mentioned\")\n",
        "        else:\n",
        "            tv_show_runtime_list.append(\"No Runtime/Duration mentioned\")\n",
        "\n",
        "    return tv_show_runtime_list\n",
        "\n",
        "# Example usage:\n",
        "# tv_show_title_list = ['breaking-bad', 'game-of-thrones']  # Replace with actual TV show titles\n",
        "# runtimes = extract_tv_show_runtime(tv_show_title_list)\n",
        "# print(runtimes)\n",
        "\n",
        "# Please replace the 'tv_show_title_list' with your actual list of TV show titles and run the function in your own environment.\n",
        "# The function will return a list of runtimes for the TV shows.\n"
      ],
      "metadata": {
        "id": "o4x4YY6AfoL1"
      },
      "execution_count": null,
      "outputs": []
    },
    {
      "cell_type": "markdown",
      "source": [
        "## **Creating TV Show DataFrame**"
      ],
      "metadata": {
        "id": "nD4QVPT-nfVR"
      }
    },
    {
      "cell_type": "code",
      "source": [
        "# Creating Tv Shows Dataframe\n",
        "import pandas as pd\n",
        "# Call the function to get the runtimes\n",
        "tv_show_runtime_list = extract_tv_show_runtime(tv_show_title_list)\n",
        "\n",
        "data_tv_shows = {\n",
        "    'Tv_Show Title':tv_show_title_list,\n",
        "    'IMDB Rating':tv_show_imdb_list,\n",
        "    'Release Year':tv_show_release_year_list,\n",
        "    'Genre':tv_show_genre_list,\n",
        "    'Runtime/Duration':tv_show_runtime_list, # Now this variable is defined\n",
        "    'Age Rating':tv_show_age_rating_list,\n",
        "    'Production Country':tv_show_production_country_list,\n",
        "    'Streaming Platform':tv_show_streaming_list,\n",
        "    'Url':tv_show_url_list\n",
        "}\n",
        "\n",
        "df_tv_shows = pd.DataFrame(data_tv_shows)"
      ],
      "metadata": {
        "id": "W3Lnlb-xip2U"
      },
      "execution_count": null,
      "outputs": []
    },
    {
      "cell_type": "markdown",
      "source": [
        "## **Task 2 :- Data Filtering & Analysis**"
      ],
      "metadata": {
        "id": "CyqHHKh4IDx6"
      }
    },
    {
      "cell_type": "code",
      "source": [
        "# Write Your Code here\n",
        "# Filtering movies and TV shows to include only those released in the last two years and with an IMDB Rating of 7 or higher.\n",
        "\n",
        "from datetime import datetime, timedelta\n",
        "\n",
        "# Get the current date\n",
        "current_date = datetime.now()\n",
        "\n",
        "# Calculate the date 2 years ago from the current date\n",
        "two_years_ago = current_date - timedelta(days=365 * 2)\n",
        "\n",
        "def filter_df(df, release_year_col, imdb_rating_col, years_ago, current_date):\n",
        "    # Convert 'Release Year' to datetime format\n",
        "    df[release_year_col] = pd.to_datetime(df[release_year_col], errors='coerce')\n",
        "\n",
        "    # Filter the DataFrame to include only entries released in the last `years_ago` years\n",
        "    filtered_df = df[(df[release_year_col] >= two_years_ago) & (df[release_year_col] <= current_date)].copy()\n",
        "\n",
        "    # Converting 'IMDB Rating' column to a string so that, in the next step, we can convert it to numeric values\n",
        "    filtered_df.loc[:, imdb_rating_col] = filtered_df[imdb_rating_col].astype(str)\n",
        "\n",
        "    # Extract numeric part and convert to numeric\n",
        "    filtered_df[imdb_rating_col] = pd.to_numeric(filtered_df[imdb_rating_col].str.extract(r'([\\d.]+)', expand=False), errors='coerce')\n",
        "\n",
        "    # Filter the DataFrame to include only entries whose IMDb Rating >= 7\n",
        "    filtered_df = filtered_df[filtered_df[imdb_rating_col] >= 7]\n",
        "\n",
        "    return filtered_df\n",
        "\n",
        "# Filtering Movies\n",
        "filtered_df_movies = filter_df(df_movies, 'Release Year', 'IMDB Rating', two_years_ago, current_date)\n",
        "print(filtered_df_movies)\n",
        "\n",
        "# Filtering TV Shows\n",
        "filtered_df_tv_shows = filter_df(df_tv_shows, 'Release Year', 'IMDB Rating', two_years_ago, current_date)\n",
        "print(filtered_df_tv_shows)"
      ],
      "metadata": {
        "id": "ly64H04vH1v9",
        "colab": {
          "base_uri": "https://localhost:8080/"
        },
        "outputId": "3dd4fbe1-f0e5-4c63-b298-a17c0269413e"
      },
      "execution_count": null,
      "outputs": [
        {
          "output_type": "stream",
          "name": "stdout",
          "text": [
            "Empty DataFrame\n",
            "Columns: [Movie Title, IMDB Rating, Release Year, Genre, Runtime/Duration, Age Rating, Production Country, Streaming Platform, Url]\n",
            "Index: []\n",
            "Empty DataFrame\n",
            "Columns: [Tv_Show Title, IMDB Rating, Release Year, Genre, Runtime/Duration, Age Rating, Production Country, Streaming Platform, Url]\n",
            "Index: []\n"
          ]
        }
      ]
    },
    {
      "cell_type": "markdown",
      "source": [
        "## **Calculating Mean IMDB Ratings for both Movies and Tv Shows**"
      ],
      "metadata": {
        "id": "0bPDbn-gPyfm"
      }
    },
    {
      "cell_type": "code",
      "source": [
        "# Write Your Code here\n",
        "# Calculating Movies mean IMDb rating\n",
        "movie_mean_imdb = filtered_df_movies['IMDB Rating'].mean()\n",
        "movie_mean_imdb_rounded = round(movie_mean_imdb, 2)\n",
        "print(\"Mean IMDb Rating for Movies is:\", movie_mean_imdb_rounded)\n",
        "\n",
        "# Calculating Tv Shows mean IMDb rating\n",
        "tv_mean_imdb = filtered_df_tv_shows['IMDB Rating'].mean()\n",
        "tv_mean_imdb_rounded = round(tv_mean_imdb, 2)\n",
        "print(\"Mean IMDb Rating for Tv Shows is:\", tv_mean_imdb_rounded)\n"
      ],
      "metadata": {
        "id": "6aGmGPOlIkk4",
        "colab": {
          "base_uri": "https://localhost:8080/"
        },
        "outputId": "6d16e850-82c6-48ab-de01-01465e23e2db"
      },
      "execution_count": null,
      "outputs": [
        {
          "output_type": "stream",
          "name": "stdout",
          "text": [
            "Mean IMDb Rating for Movies is: nan\n",
            "Mean IMDb Rating for Tv Shows is: nan\n"
          ]
        }
      ]
    },
    {
      "cell_type": "markdown",
      "source": [
        "## **Analyzing Top Genres**"
      ],
      "metadata": {
        "id": "N_OroblUQG4r"
      }
    },
    {
      "cell_type": "code",
      "source": [
        "# Function for Finding top 5 Highest Imdb rating movies / tv shows\n",
        "\n",
        "def get_top_5_imdb(df):\n",
        "\n",
        "  # Convert 'IMDB Rating' column to string\n",
        "  df['IMDB Rating'] = df['IMDB Rating'].astype(str)\n",
        "\n",
        "  # Extract only the IMDb rating value\n",
        "  df['IMDB Rating'] = df['IMDB Rating'].str.extract('(\\d+\\.\\d+)')\n",
        "\n",
        "  # Convert the 'IMDB Rating' column to numeric\n",
        "  df['IMDB Rating'] = pd.to_numeric(df['IMDB Rating'], errors='coerce')\n",
        "\n",
        "  # Select the top 5 movies/Tv Shows based on IMDb rating\n",
        "  top_5 = df.nlargest(5, 'IMDB Rating')\n",
        "\n",
        "  return top_5\n",
        "\n"
      ],
      "metadata": {
        "id": "4ljPnIn2LJLZ"
      },
      "execution_count": null,
      "outputs": []
    },
    {
      "cell_type": "markdown",
      "source": [
        "## **Finding Predominant Streaming Service**"
      ],
      "metadata": {
        "id": "BUPye0P0QP5I"
      }
    },
    {
      "cell_type": "code",
      "source": [
        "# Write Your Code here\n",
        "# Funtion for Finding  Movies / Tv Shows Predominant Streaming Service\n",
        "\n",
        "def visualize_streaming_distribution_wordcloud(df):\n",
        "    # Filter streaming information available\n",
        "    streaming_platforms = df[df['Streaming Platform'] != 'Not Available for Streaming.']['Streaming Platform']\n",
        "\n",
        "    # Create a string of streaming platforms\n",
        "    streaming_text = ' '.join(streaming_platforms)\n",
        "\n",
        "    # Generate the word cloud\n",
        "    wordcloud = WordCloud(width=800, height=400, background_color='white').generate(streaming_text)\n",
        "\n",
        "    # Display the word cloud\n",
        "    plt.figure(figsize=(10, 6))\n",
        "    plt.imshow(wordcloud, interpolation='bilinear')\n",
        "    plt.axis('off')\n",
        "    plt.title('Streaming Service Distribution - Word Cloud')\n",
        "    plt.show()\n",
        "\n",
        "    # Identify the predominant streaming service\n",
        "    predominant_service = streaming_platforms.mode().iloc[0]\n",
        "    print(f\"The predominant streaming service is: {predominant_service}\")\n",
        "\n"
      ],
      "metadata": {
        "id": "cLXiCZSAO_40"
      },
      "execution_count": null,
      "outputs": []
    },
    {
      "cell_type": "markdown",
      "source": [
        "## **Task 3 :- Data Export**"
      ],
      "metadata": {
        "id": "tytqsADVR2x6"
      }
    },
    {
      "cell_type": "code",
      "source": [
        "#saving final dataframe as Final Data in csv format\n",
        "# Saving Final Movies/Tv Shows dataframe as Final Data in csv format\n",
        "\n",
        "df_movies.to_csv('Final_Movies_Data.csv', index=False)\n",
        "df_tv_shows.to_csv('Final_Tv_Shows_Data.csv', index=False)"
      ],
      "metadata": {
        "id": "u4yaUlvrRj6g"
      },
      "execution_count": null,
      "outputs": []
    },
    {
      "cell_type": "code",
      "source": [
        "#saving filter data as Filter Data in csv format\n",
        "# Saving Filtered Movies/Tv Shows dataframe as Filtered Data in csv format\n",
        "\n",
        "filtered_df_movies.to_csv('Filtered_Movies_Data.csv', index=False)\n",
        "filtered_df_tv_shows.to_csv('Filtered_Tv_Shows_Data.csv', index=False)\n"
      ],
      "metadata": {
        "id": "SSmCEV22SSW_"
      },
      "execution_count": null,
      "outputs": []
    },
    {
      "cell_type": "markdown",
      "source": [
        "# **Dataset Drive Link (View Access with Anyone) -**"
      ],
      "metadata": {
        "id": "j6F3wrlGWOcl"
      }
    },
    {
      "cell_type": "markdown",
      "source": [
        "# ***Congratulations!!! You have completed your Assignment.***"
      ],
      "metadata": {
        "id": "9s-10dFhWZf4"
      }
    }
  ]
}